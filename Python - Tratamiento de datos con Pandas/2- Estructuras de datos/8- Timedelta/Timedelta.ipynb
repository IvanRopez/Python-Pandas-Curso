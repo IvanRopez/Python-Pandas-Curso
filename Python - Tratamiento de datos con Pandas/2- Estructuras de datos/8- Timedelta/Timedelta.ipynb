{
 "cells": [
  {
   "cell_type": "code",
   "execution_count": 1,
   "id": "09a7e30f-9b7a-420a-8daa-f05c11c90dcf",
   "metadata": {},
   "outputs": [],
   "source": [
    "import pandas as pd\n",
    "import numpy as np"
   ]
  },
  {
   "cell_type": "code",
   "execution_count": 2,
   "id": "1378ae11-c745-436f-aa72-1310f3716d1f",
   "metadata": {},
   "outputs": [
    {
     "data": {
      "text/plain": [
       "Timedelta('10 days 00:00:00')"
      ]
     },
     "execution_count": 2,
     "metadata": {},
     "output_type": "execute_result"
    }
   ],
   "source": [
    "td = pd.Timedelta('10 days')\n",
    "td"
   ]
  },
  {
   "cell_type": "code",
   "execution_count": 3,
   "id": "f69d47ad-b008-4dce-8d0b-96e6cf808cf6",
   "metadata": {},
   "outputs": [
    {
     "data": {
      "text/plain": [
       "Timedelta('10 days 00:00:00')"
      ]
     },
     "execution_count": 3,
     "metadata": {},
     "output_type": "execute_result"
    }
   ],
   "source": [
    "td = pd.Timedelta(10, unit='d')\n",
    "td"
   ]
  },
  {
   "cell_type": "code",
   "execution_count": 4,
   "id": "786d49c2-2d70-46d5-8627-b44232a572bd",
   "metadata": {},
   "outputs": [
    {
     "data": {
      "text/plain": [
       "Timedelta('10 days 02:20:00')"
      ]
     },
     "execution_count": 4,
     "metadata": {},
     "output_type": "execute_result"
    }
   ],
   "source": [
    "td = pd.Timedelta('10 days 2 hours 20 minutes')\n",
    "td"
   ]
  },
  {
   "cell_type": "code",
   "execution_count": 13,
   "id": "fd5e0a68-4cb4-4f53-b278-cc04e68cc3d4",
   "metadata": {},
   "outputs": [
    {
     "data": {
      "text/plain": [
       "DatetimeIndex(['2020-01-05', '2020-01-12', '2020-01-19', '2020-01-26',\n",
       "               '2020-02-02', '2020-02-09', '2020-02-16', '2020-02-23',\n",
       "               '2020-03-01', '2020-03-08'],\n",
       "              dtype='datetime64[ns]', freq='W-SUN')"
      ]
     },
     "execution_count": 13,
     "metadata": {},
     "output_type": "execute_result"
    }
   ],
   "source": [
    "dt_int = pd.date_range(start='2020-01-01', end='2020-03-10', freq='W')\n",
    "dt_int"
   ]
  },
  {
   "cell_type": "code",
   "execution_count": 14,
   "id": "64793c97-8748-4ebf-af12-4fbd2f0aea4a",
   "metadata": {},
   "outputs": [
    {
     "data": {
      "text/plain": [
       "DatetimeIndex(['2020-01-15 02:20:00', '2020-01-22 02:20:00',\n",
       "               '2020-01-29 02:20:00', '2020-02-05 02:20:00',\n",
       "               '2020-02-12 02:20:00', '2020-02-19 02:20:00',\n",
       "               '2020-02-26 02:20:00', '2020-03-04 02:20:00',\n",
       "               '2020-03-11 02:20:00', '2020-03-18 02:20:00'],\n",
       "              dtype='datetime64[ns]', freq=None)"
      ]
     },
     "execution_count": 14,
     "metadata": {},
     "output_type": "execute_result"
    }
   ],
   "source": [
    "dt_int + td"
   ]
  },
  {
   "cell_type": "code",
   "execution_count": 15,
   "id": "af8ed1a2-36fb-40b0-b183-d54f074dee53",
   "metadata": {},
   "outputs": [
    {
     "data": {
      "text/plain": [
       "DatetimeIndex(['2020-01-10', '2020-01-11', '2020-01-12', '2020-01-13',\n",
       "               '2020-01-14', '2020-01-15', '2020-01-16', '2020-01-17',\n",
       "               '2020-01-18', '2020-01-19'],\n",
       "              dtype='datetime64[ns]', freq='D')"
      ]
     },
     "execution_count": 15,
     "metadata": {},
     "output_type": "execute_result"
    }
   ],
   "source": [
    "dt_int2 = pd.date_range(start='2020-01-10', end='2020-01-19', freq='D')\n",
    "dt_int2"
   ]
  },
  {
   "cell_type": "code",
   "execution_count": 17,
   "id": "f217cd41-0602-44cd-baee-36538de5471e",
   "metadata": {},
   "outputs": [
    {
     "data": {
      "text/plain": [
       "TimedeltaIndex(['-5 days',  '1 days',  '7 days', '13 days', '19 days',\n",
       "                '25 days', '31 days', '37 days', '43 days', '49 days'],\n",
       "               dtype='timedelta64[ns]', freq=None)"
      ]
     },
     "execution_count": 17,
     "metadata": {},
     "output_type": "execute_result"
    }
   ],
   "source": [
    "diff = dt_int - dt_int2\n",
    "diff"
   ]
  },
  {
   "cell_type": "code",
   "execution_count": 18,
   "id": "3400274d-91a7-4b1b-9b27-3a1041257dea",
   "metadata": {},
   "outputs": [
    {
     "data": {
      "text/plain": [
       "pandas.core.indexes.timedeltas.TimedeltaIndex"
      ]
     },
     "execution_count": 18,
     "metadata": {},
     "output_type": "execute_result"
    }
   ],
   "source": [
    "type(diff)"
   ]
  },
  {
   "cell_type": "code",
   "execution_count": 19,
   "id": "c966e07c-fdf6-4b86-a029-fc1215862429",
   "metadata": {},
   "outputs": [
    {
     "data": {
      "text/plain": [
       "Timedelta('22 days 00:00:00')"
      ]
     },
     "execution_count": 19,
     "metadata": {},
     "output_type": "execute_result"
    }
   ],
   "source": [
    "diff.mean()"
   ]
  },
  {
   "cell_type": "code",
   "execution_count": 20,
   "id": "e54cc78a-0587-4b97-b9e1-e293d65a8620",
   "metadata": {},
   "outputs": [
    {
     "data": {
      "text/plain": [
       "Timedelta('49 days 00:00:00')"
      ]
     },
     "execution_count": 20,
     "metadata": {},
     "output_type": "execute_result"
    }
   ],
   "source": [
    "diff.max()"
   ]
  },
  {
   "cell_type": "code",
   "execution_count": 21,
   "id": "6cfc5494-a1fb-4e8b-b117-337048f7bfd5",
   "metadata": {},
   "outputs": [
    {
     "data": {
      "text/plain": [
       "-5 days    0\n",
       "1 days     1\n",
       "7 days     2\n",
       "13 days    3\n",
       "19 days    4\n",
       "25 days    5\n",
       "31 days    6\n",
       "37 days    7\n",
       "43 days    8\n",
       "49 days    9\n",
       "dtype: int64"
      ]
     },
     "execution_count": 21,
     "metadata": {},
     "output_type": "execute_result"
    }
   ],
   "source": [
    "s = pd.Series(np.arange(10), index=diff)\n",
    "s"
   ]
  },
  {
   "cell_type": "code",
   "execution_count": 23,
   "id": "d50da89f-de21-4601-ac2c-4f9d86088272",
   "metadata": {},
   "outputs": [
    {
     "data": {
      "text/plain": [
       "np.int64(2)"
      ]
     },
     "execution_count": 23,
     "metadata": {},
     "output_type": "execute_result"
    }
   ],
   "source": [
    "s['7 days']"
   ]
  },
  {
   "cell_type": "code",
   "execution_count": 25,
   "id": "f64f12ee-1573-44c1-8bb3-a807e857bd13",
   "metadata": {},
   "outputs": [
    {
     "data": {
      "text/plain": [
       "7 days     2\n",
       "13 days    3\n",
       "19 days    4\n",
       "25 days    5\n",
       "dtype: int64"
      ]
     },
     "execution_count": 25,
     "metadata": {},
     "output_type": "execute_result"
    }
   ],
   "source": [
    "s['7 days': '25 days']"
   ]
  },
  {
   "cell_type": "code",
   "execution_count": null,
   "id": "b9a9cc17-d89d-4936-b335-e41f05722e2a",
   "metadata": {},
   "outputs": [],
   "source": []
  }
 ],
 "metadata": {
  "kernelspec": {
   "display_name": "Python [conda env:dataScience]",
   "language": "python",
   "name": "conda-env-dataScience-py"
  },
  "language_info": {
   "codemirror_mode": {
    "name": "ipython",
    "version": 3
   },
   "file_extension": ".py",
   "mimetype": "text/x-python",
   "name": "python",
   "nbconvert_exporter": "python",
   "pygments_lexer": "ipython3",
   "version": "3.13.4"
  }
 },
 "nbformat": 4,
 "nbformat_minor": 5
}
