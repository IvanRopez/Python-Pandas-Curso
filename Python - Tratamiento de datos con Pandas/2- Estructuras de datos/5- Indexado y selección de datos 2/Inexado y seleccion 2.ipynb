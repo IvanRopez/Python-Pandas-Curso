{
 "cells": [
  {
   "cell_type": "code",
   "execution_count": 1,
   "id": "548ff038-5e52-482c-8965-a7bd734e53fb",
   "metadata": {},
   "outputs": [],
   "source": [
    "import pandas as pd\n",
    "import numpy as np"
   ]
  },
  {
   "cell_type": "code",
   "execution_count": 3,
   "id": "60bb24ec-a98c-424b-ac9f-e61d3eed1954",
   "metadata": {},
   "outputs": [],
   "source": [
    "from pathlib import Path\n",
    "data_path = Path('../datos')"
   ]
  },
  {
   "cell_type": "code",
   "execution_count": 8,
   "id": "080ecf1c-4203-4947-8c8d-db6487749830",
   "metadata": {},
   "outputs": [
    {
     "data": {
      "text/html": [
       "<div>\n",
       "<style scoped>\n",
       "    .dataframe tbody tr th:only-of-type {\n",
       "        vertical-align: middle;\n",
       "    }\n",
       "\n",
       "    .dataframe tbody tr th {\n",
       "        vertical-align: top;\n",
       "    }\n",
       "\n",
       "    .dataframe thead th {\n",
       "        text-align: right;\n",
       "    }\n",
       "</style>\n",
       "<table border=\"1\" class=\"dataframe\">\n",
       "  <thead>\n",
       "    <tr style=\"text-align: right;\">\n",
       "      <th></th>\n",
       "      <th>Id_producto</th>\n",
       "      <th>Nombre</th>\n",
       "      <th>Categoria</th>\n",
       "      <th>Stock</th>\n",
       "      <th>Ventas</th>\n",
       "    </tr>\n",
       "  </thead>\n",
       "  <tbody>\n",
       "    <tr>\n",
       "      <th>0</th>\n",
       "      <td>1</td>\n",
       "      <td>jabón naranja</td>\n",
       "      <td>jabones</td>\n",
       "      <td>7</td>\n",
       "      <td>3</td>\n",
       "    </tr>\n",
       "    <tr>\n",
       "      <th>1</th>\n",
       "      <td>2</td>\n",
       "      <td>jabón limón</td>\n",
       "      <td>jabones</td>\n",
       "      <td>4</td>\n",
       "      <td>6</td>\n",
       "    </tr>\n",
       "    <tr>\n",
       "      <th>2</th>\n",
       "      <td>3</td>\n",
       "      <td>jabón avena</td>\n",
       "      <td>jabones</td>\n",
       "      <td>5</td>\n",
       "      <td>5</td>\n",
       "    </tr>\n",
       "    <tr>\n",
       "      <th>3</th>\n",
       "      <td>4</td>\n",
       "      <td>jabón canela</td>\n",
       "      <td>jabones</td>\n",
       "      <td>8</td>\n",
       "      <td>2</td>\n",
       "    </tr>\n",
       "    <tr>\n",
       "      <th>4</th>\n",
       "      <td>5</td>\n",
       "      <td>amatista</td>\n",
       "      <td>minerales</td>\n",
       "      <td>3</td>\n",
       "      <td>2</td>\n",
       "    </tr>\n",
       "  </tbody>\n",
       "</table>\n",
       "</div>"
      ],
      "text/plain": [
       "   Id_producto         Nombre  Categoria  Stock  Ventas\n",
       "0            1  jabón naranja    jabones      7       3\n",
       "1            2    jabón limón    jabones      4       6\n",
       "2            3    jabón avena    jabones      5       5\n",
       "3            4   jabón canela    jabones      8       2\n",
       "4            5       amatista  minerales      3       2"
      ]
     },
     "execution_count": 8,
     "metadata": {},
     "output_type": "execute_result"
    }
   ],
   "source": [
    "dataset = pd.read_csv(data_path / 'data2.csv', sep=',')\n",
    "dataset.head()"
   ]
  },
  {
   "cell_type": "code",
   "execution_count": 9,
   "id": "e105783d-71fb-441b-b5a0-ec063eea3d5f",
   "metadata": {},
   "outputs": [
    {
     "data": {
      "text/plain": [
       "(2, 5)"
      ]
     },
     "execution_count": 9,
     "metadata": {},
     "output_type": "execute_result"
    }
   ],
   "source": [
    "r = dataset.sample(frac=0.1) #selección o porcentaje aleatorio del dataframe\n",
    "r.shape #filas y columnas de un dataframe"
   ]
  },
  {
   "cell_type": "code",
   "execution_count": 10,
   "id": "69f0a877-59df-476f-9460-c9d9c56f2b55",
   "metadata": {},
   "outputs": [
    {
     "data": {
      "text/plain": [
       "(22, 5)"
      ]
     },
     "execution_count": 10,
     "metadata": {},
     "output_type": "execute_result"
    }
   ],
   "source": [
    "dataset.shape"
   ]
  },
  {
   "cell_type": "code",
   "execution_count": 11,
   "id": "8140a3f4-2217-4534-92fa-6dff22957c5a",
   "metadata": {},
   "outputs": [
    {
     "data": {
      "text/html": [
       "<div>\n",
       "<style scoped>\n",
       "    .dataframe tbody tr th:only-of-type {\n",
       "        vertical-align: middle;\n",
       "    }\n",
       "\n",
       "    .dataframe tbody tr th {\n",
       "        vertical-align: top;\n",
       "    }\n",
       "\n",
       "    .dataframe thead th {\n",
       "        text-align: right;\n",
       "    }\n",
       "</style>\n",
       "<table border=\"1\" class=\"dataframe\">\n",
       "  <thead>\n",
       "    <tr style=\"text-align: right;\">\n",
       "      <th></th>\n",
       "      <th>Id_producto</th>\n",
       "      <th>Nombre</th>\n",
       "      <th>Categoria</th>\n",
       "      <th>Stock</th>\n",
       "      <th>Ventas</th>\n",
       "    </tr>\n",
       "  </thead>\n",
       "  <tbody>\n",
       "    <tr>\n",
       "      <th>16</th>\n",
       "      <td>17</td>\n",
       "      <td>árbol de amatista</td>\n",
       "      <td>ornamentación</td>\n",
       "      <td>25</td>\n",
       "      <td>5</td>\n",
       "    </tr>\n",
       "    <tr>\n",
       "      <th>15</th>\n",
       "      <td>16</td>\n",
       "      <td>árbol decorativo</td>\n",
       "      <td>ornamentación</td>\n",
       "      <td>2</td>\n",
       "      <td>4</td>\n",
       "    </tr>\n",
       "  </tbody>\n",
       "</table>\n",
       "</div>"
      ],
      "text/plain": [
       "    Id_producto             Nombre      Categoria  Stock  Ventas\n",
       "16           17  árbol de amatista  ornamentación     25       5\n",
       "15           16   árbol decorativo  ornamentación      2       4"
      ]
     },
     "execution_count": 11,
     "metadata": {},
     "output_type": "execute_result"
    }
   ],
   "source": [
    "r.head()"
   ]
  },
  {
   "cell_type": "code",
   "execution_count": 17,
   "id": "e73128e7-952c-4525-b2b1-6c0870bebf5e",
   "metadata": {},
   "outputs": [
    {
     "data": {
      "text/html": [
       "<div>\n",
       "<style scoped>\n",
       "    .dataframe tbody tr th:only-of-type {\n",
       "        vertical-align: middle;\n",
       "    }\n",
       "\n",
       "    .dataframe tbody tr th {\n",
       "        vertical-align: top;\n",
       "    }\n",
       "\n",
       "    .dataframe thead th {\n",
       "        text-align: right;\n",
       "    }\n",
       "</style>\n",
       "<table border=\"1\" class=\"dataframe\">\n",
       "  <thead>\n",
       "    <tr style=\"text-align: right;\">\n",
       "      <th></th>\n",
       "      <th>Id_producto</th>\n",
       "      <th>Nombre</th>\n",
       "      <th>Categoria</th>\n",
       "      <th>Stock</th>\n",
       "      <th>Ventas</th>\n",
       "    </tr>\n",
       "  </thead>\n",
       "  <tbody>\n",
       "    <tr>\n",
       "      <th>1</th>\n",
       "      <td>2</td>\n",
       "      <td>jabón limón</td>\n",
       "      <td>jabones</td>\n",
       "      <td>4</td>\n",
       "      <td>6</td>\n",
       "    </tr>\n",
       "    <tr>\n",
       "      <th>3</th>\n",
       "      <td>4</td>\n",
       "      <td>jabón canela</td>\n",
       "      <td>jabones</td>\n",
       "      <td>8</td>\n",
       "      <td>2</td>\n",
       "    </tr>\n",
       "  </tbody>\n",
       "</table>\n",
       "</div>"
      ],
      "text/plain": [
       "   Id_producto        Nombre Categoria  Stock  Ventas\n",
       "1            2   jabón limón   jabones      4       6\n",
       "3            4  jabón canela   jabones      8       2"
      ]
     },
     "execution_count": 17,
     "metadata": {},
     "output_type": "execute_result"
    }
   ],
   "source": [
    "dataset[dataset['Stock'].isin([4,8])]"
   ]
  },
  {
   "cell_type": "code",
   "execution_count": 21,
   "id": "3ffc9f4b-ab06-4eff-80f3-9fc570cd19ff",
   "metadata": {},
   "outputs": [
    {
     "data": {
      "text/plain": [
       "0     -\n",
       "1     -\n",
       "2     -\n",
       "3     8\n",
       "4     -\n",
       "5     -\n",
       "6     -\n",
       "7     -\n",
       "8     -\n",
       "9     -\n",
       "10    -\n",
       "11    -\n",
       "12    -\n",
       "13    -\n",
       "14    -\n",
       "15    -\n",
       "16    -\n",
       "17    -\n",
       "18    -\n",
       "19    -\n",
       "20    -\n",
       "21    -\n",
       "Name: Stock, dtype: object"
      ]
     },
     "execution_count": 21,
     "metadata": {},
     "output_type": "execute_result"
    }
   ],
   "source": [
    "dataset['Stock'].where(dataset['Stock']==8, other='-')"
   ]
  },
  {
   "cell_type": "code",
   "execution_count": 22,
   "id": "fae6162a-0a35-4efe-abb2-610c898b8398",
   "metadata": {},
   "outputs": [
    {
     "data": {
      "text/html": [
       "<div>\n",
       "<style scoped>\n",
       "    .dataframe tbody tr th:only-of-type {\n",
       "        vertical-align: middle;\n",
       "    }\n",
       "\n",
       "    .dataframe tbody tr th {\n",
       "        vertical-align: top;\n",
       "    }\n",
       "\n",
       "    .dataframe thead th {\n",
       "        text-align: right;\n",
       "    }\n",
       "</style>\n",
       "<table border=\"1\" class=\"dataframe\">\n",
       "  <thead>\n",
       "    <tr style=\"text-align: right;\">\n",
       "      <th></th>\n",
       "      <th>Id_producto</th>\n",
       "      <th>Nombre</th>\n",
       "      <th>Categoria</th>\n",
       "      <th>Stock</th>\n",
       "      <th>Ventas</th>\n",
       "    </tr>\n",
       "  </thead>\n",
       "  <tbody>\n",
       "    <tr>\n",
       "      <th>0</th>\n",
       "      <td>1</td>\n",
       "      <td>jabón naranja</td>\n",
       "      <td>jabones</td>\n",
       "      <td>7</td>\n",
       "      <td>3</td>\n",
       "    </tr>\n",
       "  </tbody>\n",
       "</table>\n",
       "</div>"
      ],
      "text/plain": [
       "   Id_producto         Nombre Categoria  Stock  Ventas\n",
       "0            1  jabón naranja   jabones      7       3"
      ]
     },
     "execution_count": 22,
     "metadata": {},
     "output_type": "execute_result"
    }
   ],
   "source": [
    "dataset.query('Stock == 7')"
   ]
  },
  {
   "cell_type": "code",
   "execution_count": 24,
   "id": "0e8f1143-8c1e-44cb-b54b-9fca2e87091a",
   "metadata": {},
   "outputs": [
    {
     "data": {
      "text/html": [
       "<div>\n",
       "<style scoped>\n",
       "    .dataframe tbody tr th:only-of-type {\n",
       "        vertical-align: middle;\n",
       "    }\n",
       "\n",
       "    .dataframe tbody tr th {\n",
       "        vertical-align: top;\n",
       "    }\n",
       "\n",
       "    .dataframe thead th {\n",
       "        text-align: right;\n",
       "    }\n",
       "</style>\n",
       "<table border=\"1\" class=\"dataframe\">\n",
       "  <thead>\n",
       "    <tr style=\"text-align: right;\">\n",
       "      <th></th>\n",
       "      <th>Id_producto</th>\n",
       "      <th>Nombre</th>\n",
       "      <th>Categoria</th>\n",
       "      <th>Stock</th>\n",
       "      <th>Ventas</th>\n",
       "    </tr>\n",
       "  </thead>\n",
       "  <tbody>\n",
       "    <tr>\n",
       "      <th>0</th>\n",
       "      <td>1</td>\n",
       "      <td>jabón naranja</td>\n",
       "      <td>jabones</td>\n",
       "      <td>7</td>\n",
       "      <td>3</td>\n",
       "    </tr>\n",
       "    <tr>\n",
       "      <th>1</th>\n",
       "      <td>2</td>\n",
       "      <td>jabón limón</td>\n",
       "      <td>jabones</td>\n",
       "      <td>4</td>\n",
       "      <td>6</td>\n",
       "    </tr>\n",
       "    <tr>\n",
       "      <th>4</th>\n",
       "      <td>5</td>\n",
       "      <td>amatista</td>\n",
       "      <td>minerales</td>\n",
       "      <td>3</td>\n",
       "      <td>2</td>\n",
       "    </tr>\n",
       "    <tr>\n",
       "      <th>9</th>\n",
       "      <td>10</td>\n",
       "      <td>collar de amatista</td>\n",
       "      <td>bisutería</td>\n",
       "      <td>6</td>\n",
       "      <td>6</td>\n",
       "    </tr>\n",
       "  </tbody>\n",
       "</table>\n",
       "</div>"
      ],
      "text/plain": [
       "   Id_producto              Nombre  Categoria  Stock  Ventas\n",
       "0            1       jabón naranja    jabones      7       3\n",
       "1            2         jabón limón    jabones      4       6\n",
       "4            5            amatista  minerales      3       2\n",
       "9           10  collar de amatista  bisutería      6       6"
      ]
     },
     "execution_count": 24,
     "metadata": {},
     "output_type": "execute_result"
    }
   ],
   "source": [
    "dataset.query('Stock == 7 or Ventas == 6 or Nombre == \"amatista\"')"
   ]
  },
  {
   "cell_type": "code",
   "execution_count": 25,
   "id": "43b27c45-4aba-4631-8cfd-88ac414195a3",
   "metadata": {},
   "outputs": [
    {
     "data": {
      "text/html": [
       "<div>\n",
       "<style scoped>\n",
       "    .dataframe tbody tr th:only-of-type {\n",
       "        vertical-align: middle;\n",
       "    }\n",
       "\n",
       "    .dataframe tbody tr th {\n",
       "        vertical-align: top;\n",
       "    }\n",
       "\n",
       "    .dataframe thead th {\n",
       "        text-align: right;\n",
       "    }\n",
       "</style>\n",
       "<table border=\"1\" class=\"dataframe\">\n",
       "  <thead>\n",
       "    <tr style=\"text-align: right;\">\n",
       "      <th></th>\n",
       "      <th>Id_producto</th>\n",
       "      <th>Nombre</th>\n",
       "      <th>Categoria</th>\n",
       "      <th>Stock</th>\n",
       "      <th>Ventas</th>\n",
       "    </tr>\n",
       "  </thead>\n",
       "  <tbody>\n",
       "    <tr>\n",
       "      <th>0</th>\n",
       "      <td>1</td>\n",
       "      <td>jabón naranja</td>\n",
       "      <td>jabones</td>\n",
       "      <td>7</td>\n",
       "      <td>3</td>\n",
       "    </tr>\n",
       "    <tr>\n",
       "      <th>1</th>\n",
       "      <td>2</td>\n",
       "      <td>jabón limón</td>\n",
       "      <td>jabones</td>\n",
       "      <td>4</td>\n",
       "      <td>6</td>\n",
       "    </tr>\n",
       "    <tr>\n",
       "      <th>2</th>\n",
       "      <td>3</td>\n",
       "      <td>jabón avena</td>\n",
       "      <td>jabones</td>\n",
       "      <td>5</td>\n",
       "      <td>5</td>\n",
       "    </tr>\n",
       "    <tr>\n",
       "      <th>3</th>\n",
       "      <td>4</td>\n",
       "      <td>jabón canela</td>\n",
       "      <td>jabones</td>\n",
       "      <td>8</td>\n",
       "      <td>2</td>\n",
       "    </tr>\n",
       "    <tr>\n",
       "      <th>4</th>\n",
       "      <td>5</td>\n",
       "      <td>amatista</td>\n",
       "      <td>minerales</td>\n",
       "      <td>3</td>\n",
       "      <td>2</td>\n",
       "    </tr>\n",
       "    <tr>\n",
       "      <th>5</th>\n",
       "      <td>6</td>\n",
       "      <td>ojo de tigre</td>\n",
       "      <td>minerales</td>\n",
       "      <td>5</td>\n",
       "      <td>2</td>\n",
       "    </tr>\n",
       "  </tbody>\n",
       "</table>\n",
       "</div>"
      ],
      "text/plain": [
       "   Id_producto         Nombre  Categoria  Stock  Ventas\n",
       "0            1  jabón naranja    jabones      7       3\n",
       "1            2    jabón limón    jabones      4       6\n",
       "2            3    jabón avena    jabones      5       5\n",
       "3            4   jabón canela    jabones      8       2\n",
       "4            5       amatista  minerales      3       2\n",
       "5            6   ojo de tigre  minerales      5       2"
      ]
     },
     "execution_count": 25,
     "metadata": {},
     "output_type": "execute_result"
    }
   ],
   "source": [
    "dataset.query('index < 6')"
   ]
  },
  {
   "cell_type": "code",
   "execution_count": 26,
   "id": "11f4520d-339a-4ab8-84a3-5995f11c9ebe",
   "metadata": {},
   "outputs": [
    {
     "data": {
      "text/html": [
       "<div>\n",
       "<style scoped>\n",
       "    .dataframe tbody tr th:only-of-type {\n",
       "        vertical-align: middle;\n",
       "    }\n",
       "\n",
       "    .dataframe tbody tr th {\n",
       "        vertical-align: top;\n",
       "    }\n",
       "\n",
       "    .dataframe thead th {\n",
       "        text-align: right;\n",
       "    }\n",
       "</style>\n",
       "<table border=\"1\" class=\"dataframe\">\n",
       "  <thead>\n",
       "    <tr style=\"text-align: right;\">\n",
       "      <th></th>\n",
       "      <th>Id_producto</th>\n",
       "      <th>Nombre</th>\n",
       "      <th>Categoria</th>\n",
       "      <th>Stock</th>\n",
       "      <th>Ventas</th>\n",
       "    </tr>\n",
       "  </thead>\n",
       "  <tbody>\n",
       "    <tr>\n",
       "      <th>3</th>\n",
       "      <td>4</td>\n",
       "      <td>jabón canela</td>\n",
       "      <td>jabones</td>\n",
       "      <td>8</td>\n",
       "      <td>2</td>\n",
       "    </tr>\n",
       "    <tr>\n",
       "      <th>4</th>\n",
       "      <td>5</td>\n",
       "      <td>amatista</td>\n",
       "      <td>minerales</td>\n",
       "      <td>3</td>\n",
       "      <td>2</td>\n",
       "    </tr>\n",
       "    <tr>\n",
       "      <th>6</th>\n",
       "      <td>7</td>\n",
       "      <td>citrino</td>\n",
       "      <td>minerales</td>\n",
       "      <td>3</td>\n",
       "      <td>5</td>\n",
       "    </tr>\n",
       "    <tr>\n",
       "      <th>18</th>\n",
       "      <td>19</td>\n",
       "      <td>incienso de romero</td>\n",
       "      <td>sahumerios</td>\n",
       "      <td>3</td>\n",
       "      <td>4</td>\n",
       "    </tr>\n",
       "  </tbody>\n",
       "</table>\n",
       "</div>"
      ],
      "text/plain": [
       "    Id_producto              Nombre   Categoria  Stock  Ventas\n",
       "3             4        jabón canela     jabones      8       2\n",
       "4             5            amatista   minerales      3       2\n",
       "6             7             citrino   minerales      3       5\n",
       "18           19  incienso de romero  sahumerios      3       4"
      ]
     },
     "execution_count": 26,
     "metadata": {},
     "output_type": "execute_result"
    }
   ],
   "source": [
    "dataset.query('Stock in (3,8)')"
   ]
  },
  {
   "cell_type": "code",
   "execution_count": 29,
   "id": "127baaa9-ec87-4540-9c29-9f39fddc4cb2",
   "metadata": {},
   "outputs": [
    {
     "data": {
      "text/html": [
       "<div>\n",
       "<style scoped>\n",
       "    .dataframe tbody tr th:only-of-type {\n",
       "        vertical-align: middle;\n",
       "    }\n",
       "\n",
       "    .dataframe tbody tr th {\n",
       "        vertical-align: top;\n",
       "    }\n",
       "\n",
       "    .dataframe thead th {\n",
       "        text-align: right;\n",
       "    }\n",
       "</style>\n",
       "<table border=\"1\" class=\"dataframe\">\n",
       "  <thead>\n",
       "    <tr style=\"text-align: right;\">\n",
       "      <th></th>\n",
       "      <th>Id_producto</th>\n",
       "      <th>Nombre</th>\n",
       "      <th>Categoria</th>\n",
       "      <th>Stock</th>\n",
       "      <th>Ventas</th>\n",
       "    </tr>\n",
       "  </thead>\n",
       "  <tbody>\n",
       "    <tr>\n",
       "      <th>18</th>\n",
       "      <td>19</td>\n",
       "      <td>incienso de romero</td>\n",
       "      <td>sahumerios</td>\n",
       "      <td>3</td>\n",
       "      <td>4</td>\n",
       "    </tr>\n",
       "    <tr>\n",
       "      <th>19</th>\n",
       "      <td>20</td>\n",
       "      <td>incienso de lavanda</td>\n",
       "      <td>sahumerios</td>\n",
       "      <td>9</td>\n",
       "      <td>7</td>\n",
       "    </tr>\n",
       "    <tr>\n",
       "      <th>20</th>\n",
       "      <td>21</td>\n",
       "      <td>incienso de canela</td>\n",
       "      <td>sahumerios</td>\n",
       "      <td>1</td>\n",
       "      <td>7</td>\n",
       "    </tr>\n",
       "    <tr>\n",
       "      <th>21</th>\n",
       "      <td>22</td>\n",
       "      <td>incienso de ruda</td>\n",
       "      <td>sahumerios</td>\n",
       "      <td>6</td>\n",
       "      <td>4</td>\n",
       "    </tr>\n",
       "  </tbody>\n",
       "</table>\n",
       "</div>"
      ],
      "text/plain": [
       "    Id_producto               Nombre   Categoria  Stock  Ventas\n",
       "18           19   incienso de romero  sahumerios      3       4\n",
       "19           20  incienso de lavanda  sahumerios      9       7\n",
       "20           21   incienso de canela  sahumerios      1       7\n",
       "21           22     incienso de ruda  sahumerios      6       4"
      ]
     },
     "execution_count": 29,
     "metadata": {},
     "output_type": "execute_result"
    }
   ],
   "source": [
    "categoria = 'sahumerios'\n",
    "dataset.query(f'Categoria == \"{categoria}\"')"
   ]
  },
  {
   "cell_type": "code",
   "execution_count": 31,
   "id": "5673d671-19e5-4ea4-842f-39e44a9e9e3c",
   "metadata": {},
   "outputs": [
    {
     "data": {
      "text/html": [
       "<div>\n",
       "<style scoped>\n",
       "    .dataframe tbody tr th:only-of-type {\n",
       "        vertical-align: middle;\n",
       "    }\n",
       "\n",
       "    .dataframe tbody tr th {\n",
       "        vertical-align: top;\n",
       "    }\n",
       "\n",
       "    .dataframe thead th {\n",
       "        text-align: right;\n",
       "    }\n",
       "</style>\n",
       "<table border=\"1\" class=\"dataframe\">\n",
       "  <thead>\n",
       "    <tr style=\"text-align: right;\">\n",
       "      <th></th>\n",
       "      <th>Id_producto</th>\n",
       "      <th>Nombre</th>\n",
       "      <th>Categoria</th>\n",
       "      <th>Stock</th>\n",
       "      <th>Ventas</th>\n",
       "    </tr>\n",
       "  </thead>\n",
       "  <tbody>\n",
       "    <tr>\n",
       "      <th>0</th>\n",
       "      <td>1</td>\n",
       "      <td>jabón naranja</td>\n",
       "      <td>jabones</td>\n",
       "      <td>7</td>\n",
       "      <td>3</td>\n",
       "    </tr>\n",
       "    <tr>\n",
       "      <th>4</th>\n",
       "      <td>5</td>\n",
       "      <td>amatista</td>\n",
       "      <td>minerales</td>\n",
       "      <td>3</td>\n",
       "      <td>2</td>\n",
       "    </tr>\n",
       "    <tr>\n",
       "      <th>7</th>\n",
       "      <td>8</td>\n",
       "      <td>péndulo de amatista</td>\n",
       "      <td>herramientas</td>\n",
       "      <td>13</td>\n",
       "      <td>5</td>\n",
       "    </tr>\n",
       "    <tr>\n",
       "      <th>9</th>\n",
       "      <td>10</td>\n",
       "      <td>collar de amatista</td>\n",
       "      <td>bisutería</td>\n",
       "      <td>6</td>\n",
       "      <td>6</td>\n",
       "    </tr>\n",
       "    <tr>\n",
       "      <th>15</th>\n",
       "      <td>16</td>\n",
       "      <td>árbol decorativo</td>\n",
       "      <td>ornamentación</td>\n",
       "      <td>2</td>\n",
       "      <td>4</td>\n",
       "    </tr>\n",
       "    <tr>\n",
       "      <th>18</th>\n",
       "      <td>19</td>\n",
       "      <td>incienso de romero</td>\n",
       "      <td>sahumerios</td>\n",
       "      <td>3</td>\n",
       "      <td>4</td>\n",
       "    </tr>\n",
       "  </tbody>\n",
       "</table>\n",
       "</div>"
      ],
      "text/plain": [
       "    Id_producto               Nombre      Categoria  Stock  Ventas\n",
       "0             1        jabón naranja        jabones      7       3\n",
       "4             5             amatista      minerales      3       2\n",
       "7             8  péndulo de amatista   herramientas     13       5\n",
       "9            10   collar de amatista      bisutería      6       6\n",
       "15           16     árbol decorativo  ornamentación      2       4\n",
       "18           19   incienso de romero     sahumerios      3       4"
      ]
     },
     "execution_count": 31,
     "metadata": {},
     "output_type": "execute_result"
    }
   ],
   "source": [
    "dataset.drop_duplicates('Categoria', inplace=False, keep = 'first') #elimina duplicados, inplace false no modifica el original y keep cual se mantiene"
   ]
  },
  {
   "cell_type": "code",
   "execution_count": null,
   "id": "09a46aca-26b2-4d7f-9af1-12b233f2edd8",
   "metadata": {},
   "outputs": [],
   "source": []
  }
 ],
 "metadata": {
  "kernelspec": {
   "display_name": "Python [conda env:dataScience]",
   "language": "python",
   "name": "conda-env-dataScience-py"
  },
  "language_info": {
   "codemirror_mode": {
    "name": "ipython",
    "version": 3
   },
   "file_extension": ".py",
   "mimetype": "text/x-python",
   "name": "python",
   "nbconvert_exporter": "python",
   "pygments_lexer": "ipython3",
   "version": "3.13.4"
  }
 },
 "nbformat": 4,
 "nbformat_minor": 5
}
