{
 "cells": [
  {
   "cell_type": "code",
   "execution_count": 6,
   "id": "1ed0154b-6a79-4de2-b197-eee050c26b6e",
   "metadata": {},
   "outputs": [],
   "source": [
    "import pandas as pd\n",
    "import numpy as np\n",
    "from pathlib import Path"
   ]
  },
  {
   "cell_type": "code",
   "execution_count": 9,
   "id": "d13bf97a-0e69-4e14-8c5f-610f7d9e96ed",
   "metadata": {},
   "outputs": [
    {
     "data": {
      "text/html": [
       "<div>\n",
       "<style scoped>\n",
       "    .dataframe tbody tr th:only-of-type {\n",
       "        vertical-align: middle;\n",
       "    }\n",
       "\n",
       "    .dataframe tbody tr th {\n",
       "        vertical-align: top;\n",
       "    }\n",
       "\n",
       "    .dataframe thead th {\n",
       "        text-align: right;\n",
       "    }\n",
       "</style>\n",
       "<table border=\"1\" class=\"dataframe\">\n",
       "  <thead>\n",
       "    <tr style=\"text-align: right;\">\n",
       "      <th></th>\n",
       "      <th>Lunes - Piernas</th>\n",
       "      <th>Martes - Pecho/Triceps</th>\n",
       "      <th>Miercoles - Espalda/Triceps</th>\n",
       "      <th>Jueves - Piernas</th>\n",
       "      <th>Viernes - Pectorales/Brazos</th>\n",
       "    </tr>\n",
       "  </thead>\n",
       "  <tbody>\n",
       "    <tr>\n",
       "      <th>0</th>\n",
       "      <td>Sentadillas 4x12</td>\n",
       "      <td>Flexiones 4x10-20</td>\n",
       "      <td>Remo con mochila 4x12</td>\n",
       "      <td>Sentadilla sumo 4x15</td>\n",
       "      <td>Flexiones inclinadas 3x12</td>\n",
       "    </tr>\n",
       "    <tr>\n",
       "      <th>1</th>\n",
       "      <td>Zancadas con peso 3x10</td>\n",
       "      <td>Flexiones banco 3x10</td>\n",
       "      <td>Remo con toalla 3x10</td>\n",
       "      <td>Hip thrust 4x12</td>\n",
       "      <td>Apertura con banda o en suelo 3x12</td>\n",
       "    </tr>\n",
       "    <tr>\n",
       "      <th>2</th>\n",
       "      <td>Sentadilla en silla 3x8</td>\n",
       "      <td>Flexiones diamante 3x8</td>\n",
       "      <td>Curl de biceps 3x12</td>\n",
       "      <td>Puente de gluteos a una pierna 3x10</td>\n",
       "      <td>Curl de biceps codo pierna 3x12</td>\n",
       "    </tr>\n",
       "    <tr>\n",
       "      <th>3</th>\n",
       "      <td>Peso muerto con mochila 3x12</td>\n",
       "      <td>Fondos entre sillas 3x10</td>\n",
       "      <td>Curl martillo 3x10</td>\n",
       "      <td>Step ups en silla 3x12 por pierna</td>\n",
       "      <td>Triceps en banco 3x15</td>\n",
       "    </tr>\n",
       "    <tr>\n",
       "      <th>4</th>\n",
       "      <td>Elevación de talones 3x20</td>\n",
       "      <td>Extensión de triceps 3x12</td>\n",
       "      <td>Superman hold 3x30s</td>\n",
       "      <td>Gemelos en escalón 3x25</td>\n",
       "      <td>Flexiones 5s x 5s 2x5</td>\n",
       "    </tr>\n",
       "  </tbody>\n",
       "</table>\n",
       "</div>"
      ],
      "text/plain": [
       "                Lunes - Piernas     Martes - Pecho/Triceps  \\\n",
       "0              Sentadillas 4x12          Flexiones 4x10-20   \n",
       "1        Zancadas con peso 3x10       Flexiones banco 3x10   \n",
       "2       Sentadilla en silla 3x8     Flexiones diamante 3x8   \n",
       "3  Peso muerto con mochila 3x12   Fondos entre sillas 3x10   \n",
       "4     Elevación de talones 3x20  Extensión de triceps 3x12   \n",
       "\n",
       "  Miercoles - Espalda/Triceps                     Jueves - Piernas  \\\n",
       "0       Remo con mochila 4x12                 Sentadilla sumo 4x15   \n",
       "1        Remo con toalla 3x10                      Hip thrust 4x12   \n",
       "2         Curl de biceps 3x12  Puente de gluteos a una pierna 3x10   \n",
       "3          Curl martillo 3x10    Step ups en silla 3x12 por pierna   \n",
       "4         Superman hold 3x30s              Gemelos en escalón 3x25   \n",
       "\n",
       "          Viernes - Pectorales/Brazos  \n",
       "0           Flexiones inclinadas 3x12  \n",
       "1  Apertura con banda o en suelo 3x12  \n",
       "2     Curl de biceps codo pierna 3x12  \n",
       "3               Triceps en banco 3x15  \n",
       "4               Flexiones 5s x 5s 2x5  "
      ]
     },
     "execution_count": 9,
     "metadata": {},
     "output_type": "execute_result"
    }
   ],
   "source": [
    "data_path = Path('../datos')\n",
    "dataset = pd.read_csv(data_path / 'data.csv', sep=',')\n",
    "dataset.head()"
   ]
  },
  {
   "cell_type": "code",
   "execution_count": 12,
   "id": "f6f72c21-ee4a-40a4-bee4-8c90b2dde6c9",
   "metadata": {},
   "outputs": [
    {
     "data": {
      "text/plain": [
       "0     True\n",
       "1    False\n",
       "2    False\n",
       "3    False\n",
       "4    False\n",
       "Name: Lunes - Piernas, dtype: bool"
      ]
     },
     "execution_count": 12,
     "metadata": {},
     "output_type": "execute_result"
    }
   ],
   "source": [
    "dataset['Lunes - Piernas'] == 'Sentadillas 4x12'"
   ]
  },
  {
   "cell_type": "code",
   "execution_count": 13,
   "id": "788a738c-7b00-4a4b-90f4-45ef9f53dccb",
   "metadata": {},
   "outputs": [
    {
     "data": {
      "text/html": [
       "<div>\n",
       "<style scoped>\n",
       "    .dataframe tbody tr th:only-of-type {\n",
       "        vertical-align: middle;\n",
       "    }\n",
       "\n",
       "    .dataframe tbody tr th {\n",
       "        vertical-align: top;\n",
       "    }\n",
       "\n",
       "    .dataframe thead th {\n",
       "        text-align: right;\n",
       "    }\n",
       "</style>\n",
       "<table border=\"1\" class=\"dataframe\">\n",
       "  <thead>\n",
       "    <tr style=\"text-align: right;\">\n",
       "      <th></th>\n",
       "      <th>Lunes - Piernas</th>\n",
       "      <th>Martes - Pecho/Triceps</th>\n",
       "      <th>Miercoles - Espalda/Triceps</th>\n",
       "      <th>Jueves - Piernas</th>\n",
       "      <th>Viernes - Pectorales/Brazos</th>\n",
       "    </tr>\n",
       "  </thead>\n",
       "  <tbody>\n",
       "    <tr>\n",
       "      <th>0</th>\n",
       "      <td>Sentadillas 4x12</td>\n",
       "      <td>Flexiones 4x10-20</td>\n",
       "      <td>Remo con mochila 4x12</td>\n",
       "      <td>Sentadilla sumo 4x15</td>\n",
       "      <td>Flexiones inclinadas 3x12</td>\n",
       "    </tr>\n",
       "  </tbody>\n",
       "</table>\n",
       "</div>"
      ],
      "text/plain": [
       "    Lunes - Piernas Martes - Pecho/Triceps Miercoles - Espalda/Triceps  \\\n",
       "0  Sentadillas 4x12      Flexiones 4x10-20       Remo con mochila 4x12   \n",
       "\n",
       "       Jueves - Piernas Viernes - Pectorales/Brazos  \n",
       "0  Sentadilla sumo 4x15   Flexiones inclinadas 3x12  "
      ]
     },
     "execution_count": 13,
     "metadata": {},
     "output_type": "execute_result"
    }
   ],
   "source": [
    "sentadillas = dataset[dataset['Lunes - Piernas'] == 'Sentadillas 4x12']\n",
    "sentadillas"
   ]
  },
  {
   "cell_type": "code",
   "execution_count": null,
   "id": "cf7d640b-cfd4-45c9-80d2-209fe2c7ab3e",
   "metadata": {},
   "outputs": [],
   "source": [
    "#  Este caso es un poco absurdo porque no interesa saber el resto de días porque el lunes haya sentadillas, debería usarse una tabla más lógica."
   ]
  },
  {
   "cell_type": "code",
   "execution_count": 15,
   "id": "eed2cfd1-2e5c-4047-a47a-9045a4aacb62",
   "metadata": {},
   "outputs": [],
   "source": [
    "### loc e iloc"
   ]
  },
  {
   "cell_type": "code",
   "execution_count": 16,
   "id": "405bb5ca-f37e-4312-8407-99f97f2123da",
   "metadata": {},
   "outputs": [
    {
     "data": {
      "text/plain": [
       "Lunes - Piernas                            Zancadas con peso 3x10\n",
       "Martes - Pecho/Triceps                       Flexiones banco 3x10\n",
       "Miercoles - Espalda/Triceps                  Remo con toalla 3x10\n",
       "Jueves - Piernas                                  Hip thrust 4x12\n",
       "Viernes - Pectorales/Brazos    Apertura con banda o en suelo 3x12\n",
       "Name: 1, dtype: object"
      ]
     },
     "execution_count": 16,
     "metadata": {},
     "output_type": "execute_result"
    }
   ],
   "source": [
    "dataset.loc[1] #Por nombre de índice, en este caso el nombre es 1, si el nombre del valor 1 fuera la 'a' daría error"
   ]
  },
  {
   "cell_type": "code",
   "execution_count": 18,
   "id": "9b31fed1-b690-4c61-96ad-cadd5a17a312",
   "metadata": {},
   "outputs": [
    {
     "data": {
      "text/plain": [
       "Lunes - Piernas                     Peso muerto con mochila 3x12\n",
       "Martes - Pecho/Triceps                  Fondos entre sillas 3x10\n",
       "Miercoles - Espalda/Triceps                   Curl martillo 3x10\n",
       "Jueves - Piernas               Step ups en silla 3x12 por pierna\n",
       "Viernes - Pectorales/Brazos                Triceps en banco 3x15\n",
       "Name: 3, dtype: object"
      ]
     },
     "execution_count": 18,
     "metadata": {},
     "output_type": "execute_result"
    }
   ],
   "source": [
    "dataset.loc[3]"
   ]
  },
  {
   "cell_type": "code",
   "execution_count": 17,
   "id": "93490081-a134-4ab1-9374-ed6277540a8f",
   "metadata": {},
   "outputs": [
    {
     "data": {
      "text/plain": [
       "Lunes - Piernas                            Zancadas con peso 3x10\n",
       "Martes - Pecho/Triceps                       Flexiones banco 3x10\n",
       "Miercoles - Espalda/Triceps                  Remo con toalla 3x10\n",
       "Jueves - Piernas                                  Hip thrust 4x12\n",
       "Viernes - Pectorales/Brazos    Apertura con banda o en suelo 3x12\n",
       "Name: 1, dtype: object"
      ]
     },
     "execution_count": 17,
     "metadata": {},
     "output_type": "execute_result"
    }
   ],
   "source": [
    "dataset.iloc[1] #Por valor de índice"
   ]
  },
  {
   "cell_type": "code",
   "execution_count": 19,
   "id": "f4a6b31d-c41b-4044-9d2e-1dc5e996d73d",
   "metadata": {},
   "outputs": [
    {
     "data": {
      "text/plain": [
       "'Curl martillo 3x10'"
      ]
     },
     "execution_count": 19,
     "metadata": {},
     "output_type": "execute_result"
    }
   ],
   "source": [
    "dataset.loc[3, 'Miercoles - Espalda/Triceps']"
   ]
  },
  {
   "cell_type": "code",
   "execution_count": 20,
   "id": "d6aff39c-d9d5-465b-be8b-31b5c0c4a7ec",
   "metadata": {},
   "outputs": [
    {
     "data": {
      "text/plain": [
       "'Curl martillo 3x10'"
      ]
     },
     "execution_count": 20,
     "metadata": {},
     "output_type": "execute_result"
    }
   ],
   "source": [
    "dataset.iloc[3,2]"
   ]
  },
  {
   "cell_type": "code",
   "execution_count": 26,
   "id": "5c5e0b92-9d37-48d4-a91d-8d3e0402f704",
   "metadata": {},
   "outputs": [
    {
     "data": {
      "text/plain": [
       "'Curl martillo 3x10'"
      ]
     },
     "execution_count": 26,
     "metadata": {},
     "output_type": "execute_result"
    }
   ],
   "source": [
    "dataset.iat[3,2] #fila / columna"
   ]
  },
  {
   "cell_type": "code",
   "execution_count": 27,
   "id": "98c5bb79-d8df-4382-a491-a560001e48be",
   "metadata": {},
   "outputs": [],
   "source": [
    "## Slicing"
   ]
  },
  {
   "cell_type": "code",
   "execution_count": 28,
   "id": "094c468f-8a55-4b4c-8282-caef6c30cc48",
   "metadata": {},
   "outputs": [
    {
     "data": {
      "text/html": [
       "<div>\n",
       "<style scoped>\n",
       "    .dataframe tbody tr th:only-of-type {\n",
       "        vertical-align: middle;\n",
       "    }\n",
       "\n",
       "    .dataframe tbody tr th {\n",
       "        vertical-align: top;\n",
       "    }\n",
       "\n",
       "    .dataframe thead th {\n",
       "        text-align: right;\n",
       "    }\n",
       "</style>\n",
       "<table border=\"1\" class=\"dataframe\">\n",
       "  <thead>\n",
       "    <tr style=\"text-align: right;\">\n",
       "      <th></th>\n",
       "      <th>Lunes - Piernas</th>\n",
       "      <th>Martes - Pecho/Triceps</th>\n",
       "      <th>Miercoles - Espalda/Triceps</th>\n",
       "      <th>Jueves - Piernas</th>\n",
       "      <th>Viernes - Pectorales/Brazos</th>\n",
       "    </tr>\n",
       "  </thead>\n",
       "  <tbody>\n",
       "    <tr>\n",
       "      <th>1</th>\n",
       "      <td>Zancadas con peso 3x10</td>\n",
       "      <td>Flexiones banco 3x10</td>\n",
       "      <td>Remo con toalla 3x10</td>\n",
       "      <td>Hip thrust 4x12</td>\n",
       "      <td>Apertura con banda o en suelo 3x12</td>\n",
       "    </tr>\n",
       "    <tr>\n",
       "      <th>2</th>\n",
       "      <td>Sentadilla en silla 3x8</td>\n",
       "      <td>Flexiones diamante 3x8</td>\n",
       "      <td>Curl de biceps 3x12</td>\n",
       "      <td>Puente de gluteos a una pierna 3x10</td>\n",
       "      <td>Curl de biceps codo pierna 3x12</td>\n",
       "    </tr>\n",
       "    <tr>\n",
       "      <th>3</th>\n",
       "      <td>Peso muerto con mochila 3x12</td>\n",
       "      <td>Fondos entre sillas 3x10</td>\n",
       "      <td>Curl martillo 3x10</td>\n",
       "      <td>Step ups en silla 3x12 por pierna</td>\n",
       "      <td>Triceps en banco 3x15</td>\n",
       "    </tr>\n",
       "  </tbody>\n",
       "</table>\n",
       "</div>"
      ],
      "text/plain": [
       "                Lunes - Piernas    Martes - Pecho/Triceps  \\\n",
       "1        Zancadas con peso 3x10      Flexiones banco 3x10   \n",
       "2       Sentadilla en silla 3x8    Flexiones diamante 3x8   \n",
       "3  Peso muerto con mochila 3x12  Fondos entre sillas 3x10   \n",
       "\n",
       "  Miercoles - Espalda/Triceps                     Jueves - Piernas  \\\n",
       "1        Remo con toalla 3x10                      Hip thrust 4x12   \n",
       "2         Curl de biceps 3x12  Puente de gluteos a una pierna 3x10   \n",
       "3          Curl martillo 3x10    Step ups en silla 3x12 por pierna   \n",
       "\n",
       "          Viernes - Pectorales/Brazos  \n",
       "1  Apertura con banda o en suelo 3x12  \n",
       "2     Curl de biceps codo pierna 3x12  \n",
       "3               Triceps en banco 3x15  "
      ]
     },
     "execution_count": 28,
     "metadata": {},
     "output_type": "execute_result"
    }
   ],
   "source": [
    "dataset.loc[1:3]"
   ]
  },
  {
   "cell_type": "code",
   "execution_count": null,
   "id": "2f634127-36c9-4c60-bf35-2b10802f2933",
   "metadata": {},
   "outputs": [],
   "source": []
  }
 ],
 "metadata": {
  "kernelspec": {
   "display_name": "Python [conda env:dataScience]",
   "language": "python",
   "name": "conda-env-dataScience-py"
  },
  "language_info": {
   "codemirror_mode": {
    "name": "ipython",
    "version": 3
   },
   "file_extension": ".py",
   "mimetype": "text/x-python",
   "name": "python",
   "nbconvert_exporter": "python",
   "pygments_lexer": "ipython3",
   "version": "3.13.2"
  }
 },
 "nbformat": 4,
 "nbformat_minor": 5
}
