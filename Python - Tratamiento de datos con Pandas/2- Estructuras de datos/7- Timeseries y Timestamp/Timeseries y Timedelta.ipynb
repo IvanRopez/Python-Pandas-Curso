{
 "cells": [
  {
   "cell_type": "code",
   "execution_count": 1,
   "id": "4bf0040b-73b4-4baa-aea6-62cf2ba5718f",
   "metadata": {},
   "outputs": [],
   "source": [
    "import numpy as np\n",
    "import pandas as pd\n",
    "import datetime"
   ]
  },
  {
   "cell_type": "code",
   "execution_count": 3,
   "id": "4449badc-786d-4eb6-9a42-63db448a5f54",
   "metadata": {},
   "outputs": [
    {
     "data": {
      "text/plain": [
       "Timestamp('2020-01-01 00:00:00')"
      ]
     },
     "execution_count": 3,
     "metadata": {},
     "output_type": "execute_result"
    }
   ],
   "source": [
    "ts = pd.Timestamp(2020, 1, 1)\n",
    "ts"
   ]
  },
  {
   "cell_type": "code",
   "execution_count": 4,
   "id": "95d024eb-b028-41b9-908b-0538141223ab",
   "metadata": {},
   "outputs": [
    {
     "data": {
      "text/plain": [
       "Timestamp('2020-01-01 00:00:00')"
      ]
     },
     "execution_count": 4,
     "metadata": {},
     "output_type": "execute_result"
    }
   ],
   "source": [
    "ts = pd.Timestamp('2020-01-01')\n",
    "ts"
   ]
  },
  {
   "cell_type": "code",
   "execution_count": 6,
   "id": "f67716dc-75c4-40fc-bcbb-cfcf165c5dc1",
   "metadata": {},
   "outputs": [
    {
     "data": {
      "text/plain": [
       "DatetimeIndex(['2020-01-01', '2020-01-02', '2020-01-03'], dtype='datetime64[ns]', freq=None)"
      ]
     },
     "execution_count": 6,
     "metadata": {},
     "output_type": "execute_result"
    }
   ],
   "source": [
    "dt = pd.to_datetime(['01/01/2020', np.datetime64('2020-01-02'), datetime.datetime(2020,1,3)])\n",
    "dt"
   ]
  },
  {
   "cell_type": "code",
   "execution_count": 9,
   "id": "7a790eff-4eda-4046-97bb-22655be97250",
   "metadata": {},
   "outputs": [
    {
     "data": {
      "text/plain": [
       "DatetimeIndex(['2020-01-01', '2020-01-02', '2020-01-03', '2020-01-04',\n",
       "               '2020-01-05'],\n",
       "              dtype='datetime64[ns]', freq='D')"
      ]
     },
     "execution_count": 9,
     "metadata": {},
     "output_type": "execute_result"
    }
   ],
   "source": [
    "dt_int = (pd.date_range('2020-01-01', periods=5, freq='D'))\n",
    "dt_int"
   ]
  },
  {
   "cell_type": "code",
   "execution_count": 10,
   "id": "f3d18412-e56d-4c35-a175-88c3f7d1e6e2",
   "metadata": {},
   "outputs": [
    {
     "data": {
      "text/plain": [
       "DatetimeIndex(['2020-01-01', '2020-01-02', '2020-01-03', '2020-01-04',\n",
       "               '2020-01-05', '2020-01-06', '2020-01-07', '2020-01-08',\n",
       "               '2020-01-09', '2020-01-10'],\n",
       "              dtype='datetime64[ns]', freq='D')"
      ]
     },
     "execution_count": 10,
     "metadata": {},
     "output_type": "execute_result"
    }
   ],
   "source": [
    "dt_int = (pd.date_range('2020-01-01', periods=10, freq='D'))\n",
    "dt_int"
   ]
  },
  {
   "cell_type": "code",
   "execution_count": 12,
   "id": "e7e453c9-a016-4feb-bc45-cd08b284904f",
   "metadata": {},
   "outputs": [
    {
     "data": {
      "text/plain": [
       "2020-01-01    0\n",
       "2020-01-02    1\n",
       "2020-01-03    2\n",
       "2020-01-04    3\n",
       "2020-01-05    4\n",
       "2020-01-06    5\n",
       "2020-01-07    6\n",
       "2020-01-08    7\n",
       "2020-01-09    8\n",
       "2020-01-10    9\n",
       "Freq: D, dtype: int64"
      ]
     },
     "execution_count": 12,
     "metadata": {},
     "output_type": "execute_result"
    }
   ],
   "source": [
    "s = pd.Series(np.arange(10), index=dt_int)\n",
    "s"
   ]
  },
  {
   "cell_type": "code",
   "execution_count": 13,
   "id": "143fd8fc-54c7-457f-ae7c-726bf5b633ab",
   "metadata": {},
   "outputs": [
    {
     "data": {
      "text/plain": [
       "2020-01-01    0.5\n",
       "2020-01-03    2.5\n",
       "2020-01-05    4.5\n",
       "2020-01-07    6.5\n",
       "2020-01-09    8.5\n",
       "Freq: 2D, dtype: float64"
      ]
     },
     "execution_count": 13,
     "metadata": {},
     "output_type": "execute_result"
    }
   ],
   "source": [
    "s.resample('2D').mean()"
   ]
  },
  {
   "cell_type": "code",
   "execution_count": 25,
   "id": "7017251b-1e23-42b7-a47d-6c167f94f860",
   "metadata": {},
   "outputs": [
    {
     "data": {
      "text/plain": [
       "0   2020-08-01\n",
       "1   2020-01-02\n",
       "dtype: datetime64[ns]"
      ]
     },
     "execution_count": 25,
     "metadata": {},
     "output_type": "execute_result"
    }
   ],
   "source": [
    "pd.to_datetime(pd.Series(['Aug 01, 2020', '2020-01-02']), format='mixed')"
   ]
  },
  {
   "cell_type": "code",
   "execution_count": 27,
   "id": "f850e2a4-5afd-48cb-85e4-8faf3cbf910f",
   "metadata": {},
   "outputs": [
    {
     "data": {
      "text/plain": [
       "Timestamp('2020-08-04 00:00:00')"
      ]
     },
     "execution_count": 27,
     "metadata": {},
     "output_type": "execute_result"
    }
   ],
   "source": [
    "_ = pd.to_datetime('04/08/2020', dayfirst = True)\n",
    "_"
   ]
  },
  {
   "cell_type": "code",
   "execution_count": 28,
   "id": "f0b83c99-9319-4b57-be8f-dc615c1c3330",
   "metadata": {},
   "outputs": [
    {
     "data": {
      "text/plain": [
       "Timestamp('2020-04-08 00:00:00')"
      ]
     },
     "execution_count": 28,
     "metadata": {},
     "output_type": "execute_result"
    }
   ],
   "source": [
    "_ = pd.to_datetime('04/08/2020', dayfirst = False)\n",
    "_"
   ]
  },
  {
   "cell_type": "code",
   "execution_count": 30,
   "id": "f42d5452-3a42-4d43-acff-efc2b83f0007",
   "metadata": {},
   "outputs": [
    {
     "data": {
      "text/plain": [
       "Timestamp('2020-08-04 00:00:00')"
      ]
     },
     "execution_count": 30,
     "metadata": {},
     "output_type": "execute_result"
    }
   ],
   "source": [
    "_ = pd.to_datetime('04/08/2020', format = '%d/%m/%Y')\n",
    "_"
   ]
  },
  {
   "cell_type": "code",
   "execution_count": 31,
   "id": "48b5b2af-38e7-4a31-a893-85bc003ab4d5",
   "metadata": {},
   "outputs": [],
   "source": [
    "## Epoch"
   ]
  },
  {
   "cell_type": "code",
   "execution_count": 32,
   "id": "9479ad42-6cab-43ac-b1c5-084498fbb499",
   "metadata": {},
   "outputs": [
    {
     "data": {
      "text/plain": [
       "DatetimeIndex(['1980-04-14 01:24:12', '1970-09-29 10:32:25',\n",
       "               '1970-09-29 10:33:55', '1970-01-17 10:47:14',\n",
       "               '1970-01-15 08:47:15'],\n",
       "              dtype='datetime64[ns]', freq=None)"
      ]
     },
     "execution_count": 32,
     "metadata": {},
     "output_type": "execute_result"
    }
   ],
   "source": [
    "pd.to_datetime([324523452,23452345,23452435,1421234,1241235], unit='s')"
   ]
  },
  {
   "cell_type": "code",
   "execution_count": 33,
   "id": "063c3b5b-5d7e-47ef-9d81-990153adb941",
   "metadata": {},
   "outputs": [],
   "source": [
    "week_mask = 'Mon Tue Wed'"
   ]
  },
  {
   "cell_type": "code",
   "execution_count": 45,
   "id": "0a929d98-7bd6-46a3-8a6e-13ace01ef71f",
   "metadata": {},
   "outputs": [
    {
     "data": {
      "text/plain": [
       "DatetimeIndex(['2020-01-01', '2020-01-06', '2020-01-07', '2020-01-08',\n",
       "               '2020-01-13', '2020-01-14', '2020-01-15', '2020-01-20',\n",
       "               '2020-01-21', '2020-01-22', '2020-01-27', '2020-01-28',\n",
       "               '2020-01-29'],\n",
       "              dtype='datetime64[ns]', freq='C')"
      ]
     },
     "execution_count": 45,
     "metadata": {},
     "output_type": "execute_result"
    }
   ],
   "source": [
    "#Rango de fechas de días laborales entre start y stop, frec=C quiere decir custom para definir por weekmask\n",
    "_ = pd.bdate_range('2020-01-01', '2020-01-30', freq='C', weekmask=week_mask)\n",
    "_"
   ]
  },
  {
   "cell_type": "code",
   "execution_count": 37,
   "id": "cb03d733-187b-4f1e-b6fc-002b046f3ee1",
   "metadata": {},
   "outputs": [
    {
     "data": {
      "text/html": [
       "<div>\n",
       "<style scoped>\n",
       "    .dataframe tbody tr th:only-of-type {\n",
       "        vertical-align: middle;\n",
       "    }\n",
       "\n",
       "    .dataframe tbody tr th {\n",
       "        vertical-align: top;\n",
       "    }\n",
       "\n",
       "    .dataframe thead th {\n",
       "        text-align: right;\n",
       "    }\n",
       "</style>\n",
       "<table border=\"1\" class=\"dataframe\">\n",
       "  <thead>\n",
       "    <tr style=\"text-align: right;\">\n",
       "      <th></th>\n",
       "      <th>year</th>\n",
       "      <th>week</th>\n",
       "      <th>day</th>\n",
       "    </tr>\n",
       "  </thead>\n",
       "  <tbody>\n",
       "    <tr>\n",
       "      <th>2020-01-01</th>\n",
       "      <td>2020</td>\n",
       "      <td>1</td>\n",
       "      <td>3</td>\n",
       "    </tr>\n",
       "    <tr>\n",
       "      <th>2020-01-06</th>\n",
       "      <td>2020</td>\n",
       "      <td>2</td>\n",
       "      <td>1</td>\n",
       "    </tr>\n",
       "    <tr>\n",
       "      <th>2020-01-07</th>\n",
       "      <td>2020</td>\n",
       "      <td>2</td>\n",
       "      <td>2</td>\n",
       "    </tr>\n",
       "    <tr>\n",
       "      <th>2020-01-08</th>\n",
       "      <td>2020</td>\n",
       "      <td>2</td>\n",
       "      <td>3</td>\n",
       "    </tr>\n",
       "    <tr>\n",
       "      <th>2020-01-13</th>\n",
       "      <td>2020</td>\n",
       "      <td>3</td>\n",
       "      <td>1</td>\n",
       "    </tr>\n",
       "    <tr>\n",
       "      <th>2020-01-14</th>\n",
       "      <td>2020</td>\n",
       "      <td>3</td>\n",
       "      <td>2</td>\n",
       "    </tr>\n",
       "    <tr>\n",
       "      <th>2020-01-15</th>\n",
       "      <td>2020</td>\n",
       "      <td>3</td>\n",
       "      <td>3</td>\n",
       "    </tr>\n",
       "    <tr>\n",
       "      <th>2020-01-20</th>\n",
       "      <td>2020</td>\n",
       "      <td>4</td>\n",
       "      <td>1</td>\n",
       "    </tr>\n",
       "    <tr>\n",
       "      <th>2020-01-21</th>\n",
       "      <td>2020</td>\n",
       "      <td>4</td>\n",
       "      <td>2</td>\n",
       "    </tr>\n",
       "    <tr>\n",
       "      <th>2020-01-22</th>\n",
       "      <td>2020</td>\n",
       "      <td>4</td>\n",
       "      <td>3</td>\n",
       "    </tr>\n",
       "    <tr>\n",
       "      <th>2020-01-27</th>\n",
       "      <td>2020</td>\n",
       "      <td>5</td>\n",
       "      <td>1</td>\n",
       "    </tr>\n",
       "    <tr>\n",
       "      <th>2020-01-28</th>\n",
       "      <td>2020</td>\n",
       "      <td>5</td>\n",
       "      <td>2</td>\n",
       "    </tr>\n",
       "    <tr>\n",
       "      <th>2020-01-29</th>\n",
       "      <td>2020</td>\n",
       "      <td>5</td>\n",
       "      <td>3</td>\n",
       "    </tr>\n",
       "  </tbody>\n",
       "</table>\n",
       "</div>"
      ],
      "text/plain": [
       "            year  week  day\n",
       "2020-01-01  2020     1    3\n",
       "2020-01-06  2020     2    1\n",
       "2020-01-07  2020     2    2\n",
       "2020-01-08  2020     2    3\n",
       "2020-01-13  2020     3    1\n",
       "2020-01-14  2020     3    2\n",
       "2020-01-15  2020     3    3\n",
       "2020-01-20  2020     4    1\n",
       "2020-01-21  2020     4    2\n",
       "2020-01-22  2020     4    3\n",
       "2020-01-27  2020     5    1\n",
       "2020-01-28  2020     5    2\n",
       "2020-01-29  2020     5    3"
      ]
     },
     "execution_count": 37,
     "metadata": {},
     "output_type": "execute_result"
    }
   ],
   "source": [
    "_.isocalendar()"
   ]
  },
  {
   "cell_type": "code",
   "execution_count": 39,
   "id": "df4a4954-3032-466d-b75e-b79acfc9137e",
   "metadata": {},
   "outputs": [
    {
     "data": {
      "text/plain": [
       "Index([2020, 2020, 2020, 2020, 2020, 2020, 2020, 2020, 2020, 2020, 2020, 2020,\n",
       "       2020],\n",
       "      dtype='int32')"
      ]
     },
     "execution_count": 39,
     "metadata": {},
     "output_type": "execute_result"
    }
   ],
   "source": [
    "_.year"
   ]
  },
  {
   "cell_type": "code",
   "execution_count": 40,
   "id": "9315182f-1742-411a-9eed-4f44d029b836",
   "metadata": {},
   "outputs": [
    {
     "data": {
      "text/plain": [
       "Index([1, 6, 7, 8, 13, 14, 15, 20, 21, 22, 27, 28, 29], dtype='int32')"
      ]
     },
     "execution_count": 40,
     "metadata": {},
     "output_type": "execute_result"
    }
   ],
   "source": [
    "_.day"
   ]
  },
  {
   "cell_type": "code",
   "execution_count": 41,
   "id": "ad6f3b84-c912-4d35-8cb4-610637f4b468",
   "metadata": {},
   "outputs": [
    {
     "data": {
      "text/plain": [
       "Index([0, 0, 0, 0, 0, 0, 0, 0, 0, 0, 0, 0, 0], dtype='int32')"
      ]
     },
     "execution_count": 41,
     "metadata": {},
     "output_type": "execute_result"
    }
   ],
   "source": [
    "_.hour"
   ]
  },
  {
   "cell_type": "code",
   "execution_count": 42,
   "id": "5650fa84-d718-4b70-ae78-c21b1d47f4df",
   "metadata": {},
   "outputs": [
    {
     "data": {
      "text/plain": [
       "Index([1, 6, 7, 8, 13, 14, 15, 20, 21, 22, 27, 28, 29], dtype='int32')"
      ]
     },
     "execution_count": 42,
     "metadata": {},
     "output_type": "execute_result"
    }
   ],
   "source": [
    "_.dayofyear"
   ]
  },
  {
   "cell_type": "code",
   "execution_count": 43,
   "id": "6ef8fade-822f-4fbc-b4c8-2d24766c9a6d",
   "metadata": {},
   "outputs": [
    {
     "data": {
      "text/plain": [
       "Index([2, 0, 1, 2, 0, 1, 2, 0, 1, 2, 0, 1, 2], dtype='int32')"
      ]
     },
     "execution_count": 43,
     "metadata": {},
     "output_type": "execute_result"
    }
   ],
   "source": [
    "_.dayofweek"
   ]
  },
  {
   "cell_type": "code",
   "execution_count": 44,
   "id": "84c2207b-348e-4769-84ec-c7c10c7ee9c8",
   "metadata": {},
   "outputs": [
    {
     "data": {
      "text/plain": [
       "<bound method _inherit_from_data.<locals>.method of DatetimeIndex(['2020-01-01', '2020-01-06', '2020-01-07', '2020-01-08',\n",
       "               '2020-01-13', '2020-01-14', '2020-01-15', '2020-01-20',\n",
       "               '2020-01-21', '2020-01-22', '2020-01-27', '2020-01-28',\n",
       "               '2020-01-29'],\n",
       "              dtype='datetime64[ns]', freq='C')>"
      ]
     },
     "execution_count": 44,
     "metadata": {},
     "output_type": "execute_result"
    }
   ],
   "source": [
    "_.day_name"
   ]
  },
  {
   "cell_type": "code",
   "execution_count": null,
   "id": "a93610b0-399e-4f19-b32c-32e776a0f687",
   "metadata": {},
   "outputs": [],
   "source": []
  }
 ],
 "metadata": {
  "kernelspec": {
   "display_name": "Python [conda env:dataScience]",
   "language": "python",
   "name": "conda-env-dataScience-py"
  },
  "language_info": {
   "codemirror_mode": {
    "name": "ipython",
    "version": 3
   },
   "file_extension": ".py",
   "mimetype": "text/x-python",
   "name": "python",
   "nbconvert_exporter": "python",
   "pygments_lexer": "ipython3",
   "version": "3.13.2"
  }
 },
 "nbformat": 4,
 "nbformat_minor": 5
}
